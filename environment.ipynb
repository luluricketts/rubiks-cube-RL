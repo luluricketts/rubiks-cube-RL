{
 "cells": [
  {
   "cell_type": "markdown",
   "metadata": {},
   "source": [
    "# Checkpoint 2: Step function"
   ]
  },
  {
   "cell_type": "markdown",
   "metadata": {},
   "source": [
    "SO the way things are encoded only accounts for the rubiks cube to have the following moves whilst keeping the front face the same at all times:\n",
    "\n",
    "1. F\n",
    "2. F'\n",
    "3. U\n",
    "4. U'\n",
    "4. R\n",
    "4. R'\n",
    "\n",
    "The other 6 actions are all complimentary to these for the 2x2 cube, so actions for these can still be accepted but will require a rotation of the cube to keep the front face the same (so each of those actions is essentially equilvalent to the above ones)\n",
    "\n",
    "1. B + rotate cube counterclockwise keeping front face same -> F'\n",
    "2. B' + rotate cube clockwise keeping front -> F\n",
    "3. D + rotate cube right (counterclockwise) to new front face -> U'\n",
    "5. D' + rotate cube left (clockwise) to new front face -> U\n",
    "4. L + flip cube up -> R\n",
    "4. L' + flip cube down -> R'\n",
    "\n",
    "I implemented the environment to accept all 12 actions, but the latter 6 essentially default to the first 6."
   ]
  },
  {
   "cell_type": "code",
   "execution_count": 1,
   "metadata": {},
   "outputs": [],
   "source": [
    "import pandas as pd\n",
    "import numpy as np\n",
    "from itertools import permutations\n",
    "import matplotlib.pyplot as plt\n",
    "from matplotlib import colors"
   ]
  },
  {
   "cell_type": "code",
   "execution_count": 2,
   "metadata": {},
   "outputs": [],
   "source": [
    "# valid states are in this array (previously defined)\n",
    "valid_states = np.loadtxt('2x2states.txt', dtype=str)"
   ]
  },
  {
   "cell_type": "code",
   "execution_count": 3,
   "metadata": {},
   "outputs": [
    {
     "data": {
      "text/plain": [
       "array(['WWWWRRBBOOGGGGRRBBOOYYYY', 'WBWRRRBYBOWGGGRYBOWOYOYG',\n",
       "       'WWRBBYBOWGRRGGRYBOWOYOYG', ..., 'WGWGOOGYRRWBGYRRWBOOBBYY',\n",
       "       'WWGGGYRRWBOOGYRRWBOOBBYY', 'WWWWGGRRBBOOGGRRBBOOYYYY'],\n",
       "      dtype='<U24')"
      ]
     },
     "execution_count": 3,
     "metadata": {},
     "output_type": "execute_result"
    }
   ],
   "source": [
    "valid_states"
   ]
  },
  {
   "cell_type": "code",
   "execution_count": 7,
   "metadata": {
    "scrolled": true
   },
   "outputs": [
    {
     "data": {
      "image/png": "[encoded data removed]",
      "text/plain": [
       "<Figure size 432x288 with 1 Axes>"
      ]
     },
     "metadata": {},
     "output_type": "display_data"
    },
    {
     "data": {
      "text/plain": [
       "3674159"
      ]
     },
     "execution_count": 7,
     "metadata": {},
     "output_type": "execute_result"
    }
   ],
   "source": [
    "# terminal state\n",
    "state_terminal = np.where(valid_states == 'WWWWGGRRBBOOGGRRBBOOYYYY')[0][0]\n",
    "visualize_cube(valid_states[state_terminal])\n",
    "state_terminal"
   ]
  },
  {
   "cell_type": "code",
   "execution_count": 6,
   "metadata": {
    "scrolled": false
   },
   "outputs": [],
   "source": [
    "def visualize_cube(state_str):\n",
    "    \"\"\"\n",
    "    Takes in string representation of state as represented in valid_states txt file\n",
    "    \"\"\"\n",
    "    \n",
    "    maps = {'W':1, 'G':2, 'R':3, 'O':4, 'B':5, 'Y':6}\n",
    "\n",
    "    viz = np.zeros((6,8))\n",
    "    cube = [maps[i] for i in state_str]\n",
    "\n",
    "    viz[:2,2:4] = np.array(cube[:4]).reshape(2,2)\n",
    "    viz[2:4,:] = np.array(cube[4:20]).reshape(2,8)\n",
    "    viz[4:,2:4] = np.array(cube[20:]).reshape(2,2)\n",
    "\n",
    "    cmap = colors.ListedColormap(['black', 'white', 'green', 'red', 'orange', 'blue', 'yellow'])\n",
    "    bounds = np.arange(-.5, 7, 1)\n",
    "    norm = colors.BoundaryNorm(bounds, cmap.N)\n",
    "\n",
    "    plt.imshow(viz, cmap=cmap, norm=norm)\n",
    "    plt.vlines(x=np.arange(0.5, 7, 1), ymin=-.5, ymax=5.5)\n",
    "    plt.hlines(y=np.arange(0.5, 5, 1), xmin=-.5, xmax=7.5)\n",
    "    plt.xticks([])\n",
    "    plt.yticks([])\n",
    "    plt.show()"
   ]
  },
  {
   "cell_type": "code",
   "execution_count": 8,
   "metadata": {},
   "outputs": [],
   "source": [
    "def rotate(str_list, ind_list, clockwise):\n",
    "    \"\"\"\n",
    "    Rotates rotates the indeces in the string representation of the state\n",
    "    \n",
    "    parameters\n",
    "    -----------\n",
    "    str_list: list representation of the state's string representation\n",
    "    ind_list: 3x4 list where each sublist is the list of indeces to rotate\n",
    "    clockwise: boolean, direction to rotate given indeces\n",
    "    \n",
    "    returns\n",
    "    --------\n",
    "    str_list: new list representation with rotated indeces\n",
    "    \"\"\"\n",
    "    if clockwise:\n",
    "        for inds in ind_list:\n",
    "            l = str_list[inds[-1]]\n",
    "            for i in range(3, 0, -1):\n",
    "                str_list[inds[i]] = str_list[inds[i-1]]\n",
    "            str_list[inds[0]] = l\n",
    "    else:\n",
    "        for inds in ind_list:\n",
    "            l = str_list[inds[0]]\n",
    "            for i in range(3):\n",
    "                str_list[inds[i]] = str_list[inds[i+1]]\n",
    "            str_list[inds[-1]] = l\n",
    "            \n",
    "    return str_list"
   ]
  },
  {
   "cell_type": "code",
   "execution_count": 9,
   "metadata": {},
   "outputs": [],
   "source": [
    "def step(state, action):\n",
    "    \"\"\"\n",
    "    Given a state and action, executes that action and returns the new state and reward\n",
    "    \n",
    "    parameters\n",
    "    -----------\n",
    "    state: integer representation of current state (index of string representation in valid_states)\n",
    "    action: integer representation of action to take\n",
    "        action indeces: [0/F, 1/F', 2/U, 3/U', 4/R, 5/R', 6/B, 7/B', 8/D, 9/D', 10/L, 11/L']\n",
    "        \n",
    "    returns\n",
    "    -------\n",
    "    state_new: integer representation of next state\n",
    "    reward\n",
    "    \"\"\"\n",
    "    \n",
    "    state_str = valid_states[state]\n",
    "    \n",
    "    if action in [0,1,6,7]:\n",
    "        inds = [[5,3,16,20],[13,2,8,21],[6,7,15,14]]\n",
    "        clockwise = True if action in [0,7] else False\n",
    "    elif action in [2,3,8,9]:\n",
    "        inds = [[0,1,3,2],[6,4,10,8],[7,5,11,9]]\n",
    "        clockwise = True if action in [2,9] else False\n",
    "    elif action in [4,5,10,11]:\n",
    "        inds = [[8,9,17,16],[7,1,18,21],[15,3,10,23]]\n",
    "        clockwise = True if action in [4,10] else False\n",
    "    \n",
    "    str_list = rotate(list(state_str), inds, clockwise=clockwise)\n",
    "    new_str = ''.join([i for i in str_list])\n",
    "    state_new = np.where(valid_states == new_str)[0][0]\n",
    "    \n",
    "    reward = -1 # -1 reward for all time steps\n",
    "    \n",
    "    return state_new, reward\n",
    "        "
   ]
  },
  {
   "cell_type": "markdown",
   "metadata": {},
   "source": [
    "## Check if all/most state/action pairs result in a valid state\n",
    "\n",
    "The rotate function will throw an error if a string representation of the state doesn't exist in it"
   ]
  },
  {
   "cell_type": "code",
   "execution_count": 15,
   "metadata": {},
   "outputs": [],
   "source": [
    "# checking for 1000 iterations with random actions\n",
    "# throws error if state isn't valid\n",
    "state = state_terminal\n",
    "for i in range(1000):\n",
    "    new_state,r = step(state, np.random.randint(12))\n",
    "    state = new_state"
   ]
  },
  {
   "cell_type": "markdown",
   "metadata": {},
   "source": [
    "## Check that step function works correctly\n",
    "\n",
    "Checking all actions starting from the terminal state in random order. Notice that all rotations result in the right ordering of cube locations, and that opposite actions (for example D then D', and L' then L) result in opposite rotations of the cube and return back to previous states."
   ]
  },
  {
   "cell_type": "code",
   "execution_count": 18,
   "metadata": {
    "scrolled": false
   },
   "outputs": [
    {
     "data": {
      "image/png": "[encoded data removed]",
      "text/plain": [
       "<Figure size 432x288 with 1 Axes>"
      ]
     },
     "metadata": {},
     "output_type": "display_data"
    },
    {
     "name": "stdout",
     "output_type": "stream",
     "text": [
      "ACTION: R\n"
     ]
    },
    {
     "data": {
      "image/png": "[encoded data removed]",
      "text/plain": [
       "<Figure size 432x288 with 1 Axes>"
      ]
     },
     "metadata": {},
     "output_type": "display_data"
    },
    {
     "name": "stdout",
     "output_type": "stream",
     "text": [
      "ACTION: B'\n"
     ]
    },
    {
     "data": {
      "image/png": "[encoded data removed]",
      "text/plain": [
       "<Figure size 432x288 with 1 Axes>"
      ]
     },
     "metadata": {},
     "output_type": "display_data"
    },
    {
     "name": "stdout",
     "output_type": "stream",
     "text": [
      "ACTION: U\n"
     ]
    },
    {
     "data": {
      "image/png": "[encoded data removed]",
      "text/plain": [
       "<Figure size 432x288 with 1 Axes>"
      ]
     },
     "metadata": {},
     "output_type": "display_data"
    },
    {
     "name": "stdout",
     "output_type": "stream",
     "text": [
      "ACTION: F'\n"
     ]
    },
    {
     "data": {
      "image/png": "[encoded data removed]",
      "text/plain": [
       "<Figure size 432x288 with 1 Axes>"
      ]
     },
     "metadata": {},
     "output_type": "display_data"
    },
    {
     "name": "stdout",
     "output_type": "stream",
     "text": [
      "ACTION: U'\n"
     ]
    },
    {
     "data": {
      "image/png": "[encoded data removed]",
      "text/plain": [
       "<Figure size 432x288 with 1 Axes>"
      ]
     },
     "metadata": {},
     "output_type": "display_data"
    },
    {
     "name": "stdout",
     "output_type": "stream",
     "text": [
      "ACTION: D\n"
     ]
    },
    {
     "data": {
      "image/png": "[encoded data removed]",
      "text/plain": [
       "<Figure size 432x288 with 1 Axes>"
      ]
     },
     "metadata": {},
     "output_type": "display_data"
    },
    {
     "name": "stdout",
     "output_type": "stream",
     "text": [
      "ACTION: D'\n"
     ]
    },
    {
     "data": {
      "image/png": "[encoded data removed]",
      "text/plain": [
       "<Figure size 432x288 with 1 Axes>"
      ]
     },
     "metadata": {},
     "output_type": "display_data"
    },
    {
     "name": "stdout",
     "output_type": "stream",
     "text": [
      "ACTION: L'\n"
     ]
    },
    {
     "data": {
      "image/png": "[encoded data removed]",
      "text/plain": [
       "<Figure size 432x288 with 1 Axes>"
      ]
     },
     "metadata": {},
     "output_type": "display_data"
    },
    {
     "name": "stdout",
     "output_type": "stream",
     "text": [
      "ACTION: L\n"
     ]
    },
    {
     "data": {
      "image/png": "[encoded data removed]",
      "text/plain": [
       "<Figure size 432x288 with 1 Axes>"
      ]
     },
     "metadata": {},
     "output_type": "display_data"
    },
    {
     "name": "stdout",
     "output_type": "stream",
     "text": [
      "ACTION: F\n"
     ]
    },
    {
     "data": {
      "image/png": "[encoded data removed]",
      "text/plain": [
       "<Figure size 432x288 with 1 Axes>"
      ]
     },
     "metadata": {},
     "output_type": "display_data"
    },
    {
     "name": "stdout",
     "output_type": "stream",
     "text": [
      "ACTION: B\n"
     ]
    },
    {
     "data": {
      "image/png": "[encoded data removed]",
      "text/plain": [
       "<Figure size 432x288 with 1 Axes>"
      ]
     },
     "metadata": {},
     "output_type": "display_data"
    },
    {
     "name": "stdout",
     "output_type": "stream",
     "text": [
      "ACTION: R'\n"
     ]
    },
    {
     "data": {
      "image/png": "[encoded data removed]",
      "text/plain": [
       "<Figure size 432x288 with 1 Axes>"
      ]
     },
     "metadata": {},
     "output_type": "display_data"
    }
   ],
   "source": [
    "# see moves from terminal state (solved cube)\n",
    "actions = [4,7,2,1,3,8,9,11,10,0,6,5]\n",
    "action_names = ['F', 'F\\'', 'U', 'U\\'', 'R', 'R\\'', 'B', 'B\\'', 'D', 'D\\'', 'L', 'L\\'']\n",
    "state = state_terminal\n",
    "visualize_cube(valid_states[state])\n",
    "for a in actions:\n",
    "    new_state,r = step(state, a)\n",
    "    print('ACTION: {}'.format(action_names[a]))\n",
    "    visualize_cube(valid_states[new_state])\n",
    "    state = new_state"
   ]
  },
  {
   "cell_type": "code",
   "execution_count": null,
   "metadata": {},
   "outputs": [],
   "source": []
  }
 ],
 "metadata": {
  "kernelspec": {
   "display_name": "Python 3",
   "language": "python",
   "name": "python3"
  },
  "language_info": {
   "codemirror_mode": {
    "name": "ipython",
    "version": 3
   },
   "file_extension": ".py",
   "mimetype": "text/x-python",
   "name": "python",
   "nbconvert_exporter": "python",
   "pygments_lexer": "ipython3",
   "version": "3.7.6"
  }
 },
 "nbformat": 4,
 "nbformat_minor": 4
}
