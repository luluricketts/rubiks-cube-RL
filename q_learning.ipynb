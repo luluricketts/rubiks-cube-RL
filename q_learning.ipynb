{
 "cells": [
  {
   "cell_type": "code",
   "execution_count": 1,
   "metadata": {},
   "outputs": [],
   "source": [
    "import numpy as np\n",
    "from cube2x2 import Cube\n",
    "from visualize import visualize_cube"
   ]
  },
  {
   "cell_type": "code",
   "execution_count": 2,
   "metadata": {},
   "outputs": [],
   "source": [
    "cube = Cube()"
   ]
  },
  {
   "cell_type": "code",
   "execution_count": 3,
   "metadata": {},
   "outputs": [],
   "source": [
    "Q = np.loadtxt('Q_init.txt')"
   ]
  },
  {
   "cell_type": "code",
   "execution_count": 4,
   "metadata": {},
   "outputs": [],
   "source": [
    "# make values smaller and 0s to lower value so max doesn't return them\n",
    "Q *= 0.1"
   ]
  },
  {
   "cell_type": "code",
   "execution_count": 5,
   "metadata": {},
   "outputs": [],
   "source": [
    "Q = np.where(Q == 0., -300, Q)"
   ]
  },
  {
   "cell_type": "markdown",
   "metadata": {},
   "source": [
    "## SARSA(0)\n",
    "\n",
    "Undiscounted"
   ]
  },
  {
   "cell_type": "code",
   "execution_count": 6,
   "metadata": {},
   "outputs": [],
   "source": [
    "def sarsa0(Q, n_episodes, n_states, n_actions, alpha, epsilon):\n",
    "    \n",
    "    n_stepstogoal = []\n",
    "    reward = -1 # constant reward for each time step\n",
    "    \n",
    "    for ep in range(n_episodes):\n",
    "        \n",
    "        steps = 0\n",
    "        # starting state\n",
    "        cube.shuffle_state()\n",
    "        \n",
    "        # choose action epsilon-greedily\n",
    "        A = np.random.randint(n_actions) if np.random.rand() < epsilon else np.argmax(Q[cube.current_s,:])\n",
    "        \n",
    "        # for each step in the episode\n",
    "        while True:\n",
    "            \n",
    "            steps += 1\n",
    "            prev_S = cube.current_s\n",
    "            # take action\n",
    "            cube.step(A)\n",
    "            \n",
    "            A_n = np.random.randint(n_actions) if np.random.rand() < epsilon else np.argmax(Q[cube.current_s,:])\n",
    "            \n",
    "            # update Q values\n",
    "            update = reward + Q[cube.current_s,A_n] - Q[prev_S, A]\n",
    "            Q[prev_S, A] = Q[prev_S, A] + alpha * update\n",
    "            \n",
    "            A = A_n\n",
    "            \n",
    "            if cube.current_s == cube.terminal_s:\n",
    "                break\n",
    "                \n",
    "        print('Episode {} done'.format(ep+1))\n",
    "        n_stepstogoal.append(steps)\n",
    "    \n",
    "    return Q, n_stepstogoal"
   ]
  },
  {
   "cell_type": "code",
   "execution_count": 7,
   "metadata": {},
   "outputs": [],
   "source": [
    "n_states = len(cube.valid_states)\n",
    "n_actions = 6"
   ]
  },
  {
   "cell_type": "code",
   "execution_count": 8,
   "metadata": {
    "scrolled": false
   },
   "outputs": [
    {
     "name": "stdout",
     "output_type": "stream",
     "text": [
      "Episode 1 done\n",
      "Episode 2 done\n",
      "Episode 3 done\n",
      "Episode 4 done\n",
      "Episode 5 done\n",
      "Episode 6 done\n",
      "Episode 7 done\n",
      "Episode 8 done\n",
      "Episode 9 done\n",
      "Episode 10 done\n",
      "Episode 11 done\n",
      "Episode 12 done\n",
      "Episode 13 done\n",
      "Episode 14 done\n",
      "Episode 15 done\n",
      "Episode 16 done\n",
      "Episode 17 done\n",
      "Episode 18 done\n",
      "Episode 19 done\n",
      "Episode 20 done\n",
      "Episode 21 done\n",
      "Episode 22 done\n",
      "Episode 23 done\n",
      "Episode 24 done\n",
      "Episode 25 done\n"
     ]
    }
   ],
   "source": [
    "Q, steps_togoal = sarsa0(Q, 25, n_states, n_actions, 0.5, 0.1)"
   ]
  },
  {
   "cell_type": "code",
   "execution_count": 9,
   "metadata": {},
   "outputs": [],
   "source": [
    "np.savetxt('sarsa0_Q.txt', Q)\n",
    "np.savetxt('steps_sarsa.txt', np.array(steps_togoal))"
   ]
  },
  {
   "cell_type": "code",
   "execution_count": null,
   "metadata": {},
   "outputs": [],
   "source": []
  },
  {
   "cell_type": "code",
   "execution_count": null,
   "metadata": {},
   "outputs": [],
   "source": []
  },
  {
   "cell_type": "code",
   "execution_count": null,
   "metadata": {},
   "outputs": [],
   "source": []
  },
  {
   "cell_type": "code",
   "execution_count": null,
   "metadata": {},
   "outputs": [],
   "source": []
  },
  {
   "cell_type": "code",
   "execution_count": 2,
   "metadata": {},
   "outputs": [],
   "source": [
    "cube1 = Cube()\n",
    "cube1.shuffle_state()"
   ]
  },
  {
   "cell_type": "code",
   "execution_count": 3,
   "metadata": {},
   "outputs": [],
   "source": [
    "cube1.current_s = np.where(cube1.valid_states == 'WRWRGGRYBBWOGGRYBBWOYOYO')[0][0]"
   ]
  },
  {
   "cell_type": "code",
   "execution_count": 4,
   "metadata": {},
   "outputs": [
    {
     "data": {
      "text/plain": [
       "1528"
      ]
     },
     "execution_count": 4,
     "metadata": {},
     "output_type": "execute_result"
    }
   ],
   "source": [
    "cube1.current_s"
   ]
  },
  {
   "cell_type": "code",
   "execution_count": 7,
   "metadata": {},
   "outputs": [
    {
     "data": {
      "image/png": "[encoded data removed]",
      "text/plain": [
       "<Figure size 432x288 with 1 Axes>"
      ]
     },
     "metadata": {},
     "output_type": "display_data"
    }
   ],
   "source": [
    "visualize_cube(cube1.valid_states[cube1.current_s])"
   ]
  },
  {
   "cell_type": "code",
   "execution_count": 8,
   "metadata": {},
   "outputs": [
    {
     "name": "stdout",
     "output_type": "stream",
     "text": [
      "WRWRGGRYBBWOGGRYBBWOYOYO\n"
     ]
    }
   ],
   "source": [
    "cube1.step(5)"
   ]
  },
  {
   "cell_type": "code",
   "execution_count": 10,
   "metadata": {},
   "outputs": [
    {
     "data": {
      "image/png": "[encoded data removed]",
      "text/plain": [
       "<Figure size 432x288 with 1 Axes>"
      ]
     },
     "metadata": {},
     "output_type": "display_data"
    }
   ],
   "source": [
    "visualize_cube(cube1.valid_states[cube1.current_s])"
   ]
  },
  {
   "cell_type": "code",
   "execution_count": null,
   "metadata": {},
   "outputs": [],
   "source": []
  }
 ],
 "metadata": {
  "kernelspec": {
   "display_name": "Python 3",
   "language": "python",
   "name": "python3"
  },
  "language_info": {
   "codemirror_mode": {
    "name": "ipython",
    "version": 3
   },
   "file_extension": ".py",
   "mimetype": "text/x-python",
   "name": "python",
   "nbconvert_exporter": "python",
   "pygments_lexer": "ipython3",
   "version": "3.7.6"
  }
 },
 "nbformat": 4,
 "nbformat_minor": 4
}
