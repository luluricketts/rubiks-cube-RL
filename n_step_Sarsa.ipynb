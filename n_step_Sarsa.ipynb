{
 "cells": [
  {
   "cell_type": "code",
   "execution_count": null,
   "metadata": {},
   "outputs": [],
   "source": [
    "import numpy as np\n",
    "from cube2x2 import Cube\n",
    "from visualize import visualize_cube"
   ]
  },
  {
   "cell_type": "code",
   "execution_count": null,
   "metadata": {},
   "outputs": [],
   "source": [
    "pol = np.loadtxt('Q_init.txt')\n",
    "pol *= 0.05"
   ]
  },
  {
   "cell_type": "code",
   "execution_count": null,
   "metadata": {},
   "outputs": [],
   "source": [
    "pol = np.where(pol == 0., -150, pol)"
   ]
  },
  {
   "cell_type": "code",
   "execution_count": null,
   "metadata": {},
   "outputs": [],
   "source": [
    "pol.shape"
   ]
  },
  {
   "cell_type": "code",
   "execution_count": null,
   "metadata": {},
   "outputs": [],
   "source": [
    "V = pol.copy()"
   ]
  },
  {
   "cell_type": "code",
   "execution_count": null,
   "metadata": {},
   "outputs": [],
   "source": [
    "cube = Cube()"
   ]
  },
  {
   "cell_type": "code",
   "execution_count": null,
   "metadata": {},
   "outputs": [],
   "source": [
    "def n_stepTD(episodes, n, policy, V, alpha):\n",
    "    \n",
    "    for ep in range(episodes):\n",
    "        \n",
    "        cube.shuffle_state()\n",
    "        s_0 = cube.current_s\n",
    "        s_list = [s_0]\n",
    "        r_list = [0]\n",
    "        a_list = []\n",
    "        \n",
    "        T = 1000 # early stop at 1000 ? takes ~2 min per ep\n",
    "        t_step = 0\n",
    "        s = s_0\n",
    "        while True:\n",
    "            \n",
    "            A = np.argmax(policy[s])\n",
    "            a_list.append(A)\n",
    "            \n",
    "            if t_step < T:\n",
    "                cube.step(A)\n",
    "                s_n = cube.current_s\n",
    "                r = -1 # constant\n",
    "                \n",
    "                s_list.append(s_n)\n",
    "                r_list.append(r)\n",
    "            \n",
    "                if s_n == cube.terminal_s:\n",
    "                    T = t_step + 1\n",
    "            \n",
    "            tau = t_step - n + 1\n",
    "            if tau >= 0:\n",
    "                \n",
    "                G = sum(r_list[tau+1:min(tau+n, T)])\n",
    "                if tau + n < T:\n",
    "                    G = G + V[s_list[tau+n],A]\n",
    "                \n",
    "                V[s_list[tau],A] = V[s_list[tau],A] + alpha * (G - V[s_list[tau],A])\n",
    "                \n",
    "            t_step += 1\n",
    "            \n",
    "            if tau == T - 1:\n",
    "                if s_n != cube.terminal_s:\n",
    "                    for i,s in enumerate(s_list):\n",
    "                        V[s,a_list[i]] -= 1\n",
    "                break\n",
    "                \n",
    "        print('Episode {} done'.format(ep+1))\n",
    "    \n",
    "    return V"
   ]
  },
  {
   "cell_type": "code",
   "execution_count": null,
   "metadata": {},
   "outputs": [],
   "source": [
    "V_pol = n_stepTD(200, 6, pol, V, alpha=0.5)"
   ]
  },
  {
   "cell_type": "code",
   "execution_count": null,
   "metadata": {},
   "outputs": [],
   "source": [
    "np.savetxt('nstep_Q.txt', V_pol)"
   ]
  },
  {
   "cell_type": "code",
   "execution_count": null,
   "metadata": {},
   "outputs": [],
   "source": []
  }
 ],
 "metadata": {
  "kernelspec": {
   "display_name": "Python 3",
   "language": "python",
   "name": "python3"
  },
  "language_info": {
   "codemirror_mode": {
    "name": "ipython",
    "version": 3
   },
   "file_extension": ".py",
   "mimetype": "text/x-python",
   "name": "python",
   "nbconvert_exporter": "python",
   "pygments_lexer": "ipython3",
   "version": "3.7.6"
  }
 },
 "nbformat": 4,
 "nbformat_minor": 4
}
